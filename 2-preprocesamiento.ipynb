{
 "cells": [
  {
   "cell_type": "code",
   "execution_count": 1,
   "metadata": {},
   "outputs": [],
   "source": [
    "# Tratamiento de datos\n",
    "# -----------------------------------------------------------------------\n",
    "import pandas as pd\n",
    "import numpy as np\n",
    "\n",
    "# Librerías de visualización\n",
    "# -----------------------------------------------------------------------\n",
    "import seaborn as sns\n",
    "import matplotlib.pyplot as plt\n",
    "import plotly.express as px\n",
    "\n",
    "# Configuración\n",
    "# -----------------------------------------------------------------------\n",
    "pd.set_option('display.max_columns', None)  # para visualizar todas las columnas de los DataFrames\n",
    "\n",
    "# Gestión de warnings\n",
    "# -----------------------------------------------------------------------\n",
    "import warnings\n",
    "warnings.filterwarnings('ignore')\n",
    "\n",
    "# Métodos estadísticos\n",
    "# -----------------------------------------------------------------------\n",
    "from scipy.stats import zscore  # para calcular el z-score\n",
    "from sklearn.neighbors import LocalOutlierFactor  # para detectar outliers usando el método LOF\n",
    "from sklearn.ensemble import IsolationForest  # para detectar outliers usando el método IF\n",
    "from sklearn.neighbors import NearestNeighbors  # para calcular la epsilon\n",
    "from sklearn.preprocessing import MinMaxScaler, Normalizer, StandardScaler, RobustScaler\n",
    "\n",
    "# Para generar combinaciones de listas\n",
    "# -----------------------------------------------------------------------\n",
    "from itertools import product, combinations\n",
    "\n",
    "# Importación de las clases creadas en nuestro archivo de soporte\n",
    "# -----------------------------------------------------------------------\n",
    "from src import soporte_preprocesamiento as sp\n",
    "from src import soporte_outliers as so\n",
    "from src import soporte_encoding as se\n"
   ]
  },
  {
   "cell_type": "code",
   "execution_count": 3,
   "metadata": {},
   "outputs": [],
   "source": [
    "df = pd.read_csv(\"datos/datos_limpios.csv\", index_col = 0)"
   ]
  },
  {
   "cell_type": "code",
   "execution_count": 4,
   "metadata": {},
   "outputs": [],
   "source": [
    "df[[\"rooms\", \"bathrooms\"]] = df[[\"rooms\", \"bathrooms\"]].astype(\"str\")"
   ]
  },
  {
   "cell_type": "code",
   "execution_count": 5,
   "metadata": {},
   "outputs": [],
   "source": [
    "columnas_mumericas = df.select_dtypes(\"number\").columns\n",
    "columnas_categoricas = df.select_dtypes(\"O\").columns"
   ]
  },
  {
   "cell_type": "code",
   "execution_count": 7,
   "metadata": {},
   "outputs": [
    {
     "name": "stdout",
     "output_type": "stream",
     "text": [
      "<class 'pandas.core.frame.DataFrame'>\n",
      "Index: 353 entries, 0 to 352\n",
      "Data columns (total 5 columns):\n",
      " #   Column     Non-Null Count  Dtype  \n",
      "---  ------     --------------  -----  \n",
      " 0   price      353 non-null    float64\n",
      " 1   size       353 non-null    float64\n",
      " 2   latitude   353 non-null    float64\n",
      " 3   longitude  353 non-null    float64\n",
      " 4   distance   353 non-null    int64  \n",
      "dtypes: float64(4), int64(1)\n",
      "memory usage: 16.5 KB\n"
     ]
    }
   ],
   "source": [
    "df[columnas_mumericas].info()"
   ]
  },
  {
   "cell_type": "markdown",
   "metadata": {},
   "source": [
    "Eliminamos latitud y longitud, pues dado que no vamos a imputar nulos en las categorias numericas, la información de localización que necesitamos nos la dan distnace y municipality, y columnas como latitude y longitude que tienen todos sus valores como unicos carecen de relevancia para el análisis predictivo"
   ]
  },
  {
   "cell_type": "code",
   "execution_count": 8,
   "metadata": {},
   "outputs": [],
   "source": [
    "df.drop(columns = [\"latitude\", \"longitude\"], inplace=True)"
   ]
  },
  {
   "cell_type": "code",
   "execution_count": null,
   "metadata": {},
   "outputs": [],
   "source": [
    "df[columnas_categoricas]"
   ]
  }
 ],
 "metadata": {
  "kernelspec": {
   "display_name": "Python 3",
   "language": "python",
   "name": "python3"
  },
  "language_info": {
   "codemirror_mode": {
    "name": "ipython",
    "version": 3
   },
   "file_extension": ".py",
   "mimetype": "text/x-python",
   "name": "python",
   "nbconvert_exporter": "python",
   "pygments_lexer": "ipython3",
   "version": "3.12.6"
  }
 },
 "nbformat": 4,
 "nbformat_minor": 2
}
